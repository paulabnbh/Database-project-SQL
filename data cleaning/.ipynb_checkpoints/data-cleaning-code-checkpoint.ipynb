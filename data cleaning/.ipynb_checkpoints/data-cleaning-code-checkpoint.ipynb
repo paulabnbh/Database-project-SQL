{
 "cells": [
  {
   "cell_type": "code",
   "execution_count": 1,
   "id": "b924abdc",
   "metadata": {},
   "outputs": [],
   "source": [
    "import pandas as pd\n",
    "import numpy as np\n",
    "\n",
    "import warnings\n",
    "warnings.filterwarnings('ignore')\n",
    "\n",
    "pd.set_option('display.max_columns', None)\n",
    "pd.set_option('display.max_rows', None)"
   ]
  },
  {
   "cell_type": "markdown",
   "id": "cf02ee8f",
   "metadata": {},
   "source": [
    "Revisamos todos los documentos csv para ver qué datos nulos hay y en caso de haberlos, adaptamos la mejor manera para limpiar la base de datos y dejarla libre de valores nulos."
   ]
  },
  {
   "cell_type": "code",
   "execution_count": 2,
   "id": "2f83d631",
   "metadata": {},
   "outputs": [
    {
     "data": {
      "text/plain": [
       "Series([], dtype: int64)"
      ]
     },
     "execution_count": 2,
     "metadata": {},
     "output_type": "execute_result"
    }
   ],
   "source": [
    "dfactor=pd.read_csv('../data/actor.csv') #revisamos el csv actor\n",
    "\n",
    "nan_cols_actor = dfactor.isnull().sum()\n",
    "\n",
    "nan_cols_actor[nan_cols_actor>0]"
   ]
  },
  {
   "cell_type": "code",
   "execution_count": 3,
   "id": "af1f2186",
   "metadata": {},
   "outputs": [
    {
     "data": {
      "text/plain": [
       "Series([], dtype: int64)"
      ]
     },
     "execution_count": 3,
     "metadata": {},
     "output_type": "execute_result"
    }
   ],
   "source": [
    "dfcategory=pd.read_csv('../data/category.csv') #revisamos el csv category\n",
    "\n",
    "nan_cols_category = dfcategory.isnull().sum()\n",
    "\n",
    "nan_cols_category[nan_cols_category>0]"
   ]
  },
  {
   "cell_type": "code",
   "execution_count": 4,
   "id": "d1a04155",
   "metadata": {},
   "outputs": [],
   "source": [
    "dfcategory = dfcategory.rename(columns={'name':'category'})"
   ]
  },
  {
   "cell_type": "code",
   "execution_count": 5,
   "id": "a03f1a37",
   "metadata": {},
   "outputs": [
    {
     "data": {
      "text/plain": [
       "original_language_id    1000\n",
       "dtype: int64"
      ]
     },
     "execution_count": 5,
     "metadata": {},
     "output_type": "execute_result"
    }
   ],
   "source": [
    "dffilm = pd.read_csv('../data/film.csv') #revisamos el csv film y vemos que la columna originla_language_id tiene 1000 valores nulos\n",
    "\n",
    "nan_cols_film = dffilm.isnull().sum()\n",
    "\n",
    "nan_cols_film[nan_cols_film>0]"
   ]
  },
  {
   "cell_type": "code",
   "execution_count": 6,
   "id": "7e0a5c8c",
   "metadata": {},
   "outputs": [],
   "source": [
    "dffilm.drop(columns = ['original_language_id', 'last_update'], axis = 1, inplace = True)\n",
    "\n",
    "# Eliminamos la columna orginal_language_id porque no tiene ningún valor con datos y no podemos sacar esta información\n",
    "# de otra tabla o de otros valor de esa misma columna."
   ]
  },
  {
   "cell_type": "code",
   "execution_count": 7,
   "id": "6232248a",
   "metadata": {},
   "outputs": [
    {
     "data": {
      "text/plain": [
       "Series([], dtype: int64)"
      ]
     },
     "execution_count": 7,
     "metadata": {},
     "output_type": "execute_result"
    }
   ],
   "source": [
    "dfinventory = pd.read_csv('../data/inventory.csv') #Revisamos el csv inventory y vemos que no tiene valores nulos\n",
    "\n",
    "nan_cols = dfinventory.isnull().sum()\n",
    "\n",
    "nan_cols[nan_cols>0]"
   ]
  },
  {
   "cell_type": "code",
   "execution_count": 8,
   "id": "12526a86",
   "metadata": {},
   "outputs": [
    {
     "data": {
      "text/plain": [
       "Series([], dtype: int64)"
      ]
     },
     "execution_count": 8,
     "metadata": {},
     "output_type": "execute_result"
    }
   ],
   "source": [
    "dflanguage = pd.read_csv('../data/language.csv') #Revisamos el csv language y vemos que no tiene valores nulos\n",
    "                         \n",
    "nan_cols = dflanguage.isnull().sum()\n",
    "                         \n",
    "nan_cols[nan_cols>0]"
   ]
  },
  {
   "cell_type": "code",
   "execution_count": 9,
   "id": "52bf22b8",
   "metadata": {},
   "outputs": [],
   "source": [
    "dflanguage = dflanguage.rename(columns={'name':'language'})\n"
   ]
  },
  {
   "cell_type": "code",
   "execution_count": 10,
   "id": "217783a9",
   "metadata": {
    "scrolled": true
   },
   "outputs": [
    {
     "data": {
      "text/plain": [
       "Series([], dtype: int64)"
      ]
     },
     "execution_count": 10,
     "metadata": {},
     "output_type": "execute_result"
    }
   ],
   "source": [
    "dfoldhdd = pd.read_csv('../data/old_HDD.csv') #Revisamos el csv oldHDD y vemos que no tiene valores nulos\n",
    "\n",
    "nan_cols = dfoldhdd.isnull().sum()\n",
    "\n",
    "nan_cols[nan_cols>0]"
   ]
  },
  {
   "cell_type": "code",
   "execution_count": 11,
   "id": "ed1bd434",
   "metadata": {},
   "outputs": [
    {
     "data": {
      "text/plain": [
       "Series([], dtype: int64)"
      ]
     },
     "execution_count": 11,
     "metadata": {},
     "output_type": "execute_result"
    }
   ],
   "source": [
    "dfrental = pd.read_csv('../data/rental.csv')\n",
    "\n",
    "nan_cols = dfrental.isnull().sum()\n",
    "\n",
    "nan_cols[nan_cols>0]"
   ]
  },
  {
   "cell_type": "markdown",
   "id": "3f64cc7b",
   "metadata": {},
   "source": [
    "De todas las tablas eliminamos la columna last_update, puesto que en todas las filas de todas las tablas tenemos la misma información y no nos aporta datos de nuestro interés."
   ]
  },
  {
   "cell_type": "code",
   "execution_count": 12,
   "id": "2a3a1b8e",
   "metadata": {
    "scrolled": true
   },
   "outputs": [],
   "source": [
    "dfactor.drop('last_update', axis = 1 , inplace = True)\n",
    "dfcategory.drop('last_update', axis = 1, inplace = True)\n",
    "dfinventory.drop('last_update', axis = 1, inplace = True)\n",
    "dflanguage.drop('last_update', axis = 1, inplace = True)\n",
    "dfrental.drop('last_update', axis = 1, inplace = True)"
   ]
  },
  {
   "cell_type": "markdown",
   "id": "c53c3616",
   "metadata": {},
   "source": [
    "Para más adelante poder crear una relación entre category y film, vamos a unir el dataframe de film y el dataframe de old HDD de forma a que en film tengamos una columna más que nos indique la categoría de cada película (esta categoría está indicada en el dataframe old HDD a través del título de la película en vez de su ID)."
   ]
  },
  {
   "cell_type": "code",
   "execution_count": 13,
   "id": "9ee9194a",
   "metadata": {},
   "outputs": [],
   "source": [
    "film_category = pd.merge(dffilm , dfoldhdd, on = 'title', how = 'outer')"
   ]
  },
  {
   "cell_type": "code",
   "execution_count": 14,
   "id": "2b9f3c5d",
   "metadata": {},
   "outputs": [],
   "source": [
    "film_category.drop(columns=['first_name','last_name','release_year_y'], axis = 1, inplace = True)"
   ]
  },
  {
   "cell_type": "code",
   "execution_count": 15,
   "id": "1099130a",
   "metadata": {},
   "outputs": [],
   "source": [
    "film_category = film_category.drop_duplicates()\n",
    "film_category = film_category.fillna(int(17))"
   ]
  },
  {
   "cell_type": "code",
   "execution_count": 16,
   "id": "0686869e",
   "metadata": {},
   "outputs": [],
   "source": [
    "dfactor['full_name']=dfactor.first_name +' '+ dfactor.last_name\n",
    "dfoldhdd['full_name']=dfoldhdd.first_name +' '+ dfoldhdd.last_name"
   ]
  },
  {
   "cell_type": "code",
   "execution_count": 17,
   "id": "aec18995",
   "metadata": {},
   "outputs": [],
   "source": [
    "dfoldhdd.drop(columns =['first_name','last_name','release_year'], inplace=True)"
   ]
  },
  {
   "cell_type": "markdown",
   "id": "21807dd8",
   "metadata": {},
   "source": [
    "Exportamos todos los dataframes para poder trabajar sobre ellos con los cambios establecidos anteriormente."
   ]
  },
  {
   "cell_type": "code",
   "execution_count": 18,
   "id": "491b859e",
   "metadata": {},
   "outputs": [],
   "source": [
    "film_category.to_csv('../data/film.csv', index = False)\n",
    "dfcategory.to_csv('../data/category.csv', index = False)\n",
    "dflanguage.to_csv('../data/language.csv', index = False)\n",
    "dfactor.to_csv('../data/actor.csv', index = False)\n",
    "dfinventory.to_csv('../data/inventory.csv', index = False)\n",
    "dfrental.to_csv('../data/rental.csv', index = False)\n",
    "dfoldhdd.to_csv('../data/old_HDD.csv', index = False)"
   ]
  }
 ],
 "metadata": {
  "kernelspec": {
   "display_name": "Python 3 (ipykernel)",
   "language": "python",
   "name": "python3"
  },
  "language_info": {
   "codemirror_mode": {
    "name": "ipython",
    "version": 3
   },
   "file_extension": ".py",
   "mimetype": "text/x-python",
   "name": "python",
   "nbconvert_exporter": "python",
   "pygments_lexer": "ipython3",
   "version": "3.9.13"
  }
 },
 "nbformat": 4,
 "nbformat_minor": 5
}
